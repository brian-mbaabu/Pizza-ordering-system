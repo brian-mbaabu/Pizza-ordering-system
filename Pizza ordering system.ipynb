{
 "cells": [
  {
   "cell_type": "code",
   "execution_count": null,
   "metadata": {},
   "outputs": [],
   "source": [
    "prompt = \"\\nEnter the toppings you want on your pizza.\"\n",
    "prompt += \"\\nEnter quit once you finish. \"\n",
    "\n",
    "active = True\n",
    "toppings = ['pepperoni', 'chicken', 'pineapple', 'cheese', 'cucumber']\n",
    "while active:\n",
    "    message = input(prompt)\n",
    "    if message == 'quit':\n",
    "        break\n",
    "    else:\n",
    "        for topping in toppings:\n",
    "            if message == topping:\n",
    "                print(f\"\\nWe have added {message} to your pizza.\")\n",
    "                break\n",
    "        else:\n",
    "            print(f\"\\nUnfourtunately, we do not serve {message}\")"
   ]
  }
 ],
 "metadata": {
  "kernelspec": {
   "display_name": "Python 3",
   "language": "python",
   "name": "python3"
  },
  "language_info": {
   "codemirror_mode": {
    "name": "ipython",
    "version": 3
   },
   "file_extension": ".py",
   "mimetype": "text/x-python",
   "name": "python",
   "nbconvert_exporter": "python",
   "pygments_lexer": "ipython3",
   "version": "3.7.6"
  }
 },
 "nbformat": 4,
 "nbformat_minor": 4
}
